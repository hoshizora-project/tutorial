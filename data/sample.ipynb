{
 "cells": [
  {
   "cell_type": "code",
   "execution_count": null,
   "metadata": {
    "collapsed": true
   },
   "outputs": [],
   "source": [
    "import amanogawa as am\n",
    "import hoshizora as hz\n",
    "import os"
   ]
  },
  {
   "cell_type": "code",
   "execution_count": null,
   "metadata": {},
   "outputs": [],
   "source": [
    "# print source data\n",
    "open('kinmosa.csv').read()"
   ]
  },
  {
   "cell_type": "code",
   "execution_count": null,
   "metadata": {},
   "outputs": [],
   "source": [
    "# print sample config file\n",
    "for line in open('simple.toml').readlines():\n",
    "    print(line, end='')"
   ]
  },
  {
   "cell_type": "code",
   "execution_count": null,
   "metadata": {},
   "outputs": [],
   "source": [
    "# use file-based config (csv to tsv)\n",
    "config = am.Config.load_from_file('simple.toml')\n",
    "am.execute(config)"
   ]
  },
  {
   "cell_type": "code",
   "execution_count": null,
   "metadata": {},
   "outputs": [],
   "source": [
    "# print result (and then remove it)\n",
    "print(open('kinmosa.tsv').read())\n",
    "os.remove('kinmosa.tsv')"
   ]
  },
  {
   "cell_type": "code",
   "execution_count": null,
   "metadata": {},
   "outputs": [],
   "source": [
    "# use DSL config (same process as the above)\n",
    "builder = am.ConfigBuilder()\n",
    "config = builder \\\n",
    "    .source('file').set('path', 'kinmosa.csv') \\\n",
    "        .format('csv').set('columns', [{'name':'id','type':'int'},{'name':'name','type':'string'},{'name':'blood_id','type':'int'}]) \\\n",
    "    .sink('file').set('path', 'kinmosa.tsv') \\\n",
    "        .format('csv').set('delimiter', '\\t').build()\n",
    "am.execute(config)"
   ]
  },
  {
   "cell_type": "code",
   "execution_count": null,
   "metadata": {},
   "outputs": [],
   "source": [
    "# print result (and then remove it)\n",
    "print(open('kinmosa.tsv').read())\n",
    "os.remove('kinmosa.tsv')"
   ]
  },
  {
   "cell_type": "code",
   "execution_count": null,
   "metadata": {},
   "outputs": [],
   "source": [
    "# graph construction\n",
    "builder = am.ConfigBuilder()\n",
    "config = builder \\\n",
    "    .source('file').set('path', 'sample.jsonl') \\\n",
    "        .format('json').set('columns', [{'name': 'content', 'type': 'string'}]) \\\n",
    "    .flow('to_graph').set('mode', 'bow').set('column', 'content').set('knn', {'k': 2, 'p': 1.5}) \\\n",
    "    .sink('file').set('path', 'sample.graph') \\\n",
    "        .format('csv').set('delimiter', ' ').set('write_header', False).build()\n",
    "am.execute(config)"
   ]
  },
  {
   "cell_type": "code",
   "execution_count": null,
   "metadata": {},
   "outputs": [],
   "source": [
    "# print constructed graph\n",
    "print(open('sample.graph').read())"
   ]
  },
  {
   "cell_type": "code",
   "execution_count": null,
   "metadata": {},
   "outputs": [],
   "source": [
    "# calc pagerank (and then remove graph file)\n",
    "result = hz.pagerank('sample.graph', num_iters=10)\n",
    "os.remove('sample.graph')"
   ]
  },
  {
   "cell_type": "code",
   "execution_count": null,
   "metadata": {},
   "outputs": [],
   "source": [
    "# print pagerank result\n",
    "print(result)"
   ]
  },
  {
   "cell_type": "code",
   "execution_count": null,
   "metadata": {
    "collapsed": true
   },
   "outputs": [],
   "source": []
  },
  {
   "cell_type": "code",
   "execution_count": null,
   "metadata": {
    "collapsed": true
   },
   "outputs": [],
   "source": []
  }
 ],
 "metadata": {
  "kernelspec": {
   "display_name": "Python 3",
   "language": "python",
   "name": "python3"
  },
  "language_info": {
   "codemirror_mode": {
    "name": "ipython",
    "version": 3
   },
   "file_extension": ".py",
   "mimetype": "text/x-python",
   "name": "python",
   "nbconvert_exporter": "python",
   "pygments_lexer": "ipython3",
   "version": "3.6.3"
  }
 },
 "nbformat": 4,
 "nbformat_minor": 2
}
